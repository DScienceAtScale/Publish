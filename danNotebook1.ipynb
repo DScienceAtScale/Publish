{
    "nbformat": 4, 
    "metadata": {
        "language_info": {
            "name": "python", 
            "nbconvert_exporter": "python", 
            "mimetype": "text/x-python", 
            "version": "2.7.11", 
            "codemirror_mode": {
                "name": "ipython", 
                "version": 2
            }, 
            "file_extension": ".py", 
            "pygments_lexer": "ipython2"
        }, 
        "kernelspec": {
            "name": "python2", 
            "display_name": "Python 2 with Spark 1.6", 
            "language": "python"
        }
    }, 
    "nbformat_minor": 0, 
    "cells": [
        {
            "metadata": {}, 
            "source": "# <span style=\"color:blue\">Introduction to Brunel</span>", 
            "cell_type": "markdown"
        }, 
        {
            "metadata": {}, 
            "source": "## Detailed Brunel documentation can be found at: http://brunel.mybluemix.net/docs/Brunel%20Documentation.pdf", 
            "cell_type": "markdown"
        }, 
        {
            "metadata": {}, 
            "source": "## In the few examples below, we will be using the data set at the following location: http://brunel.mybluemix.net/sample_data/US%20States.csv\n\n### In the cell below, you can see a short snippet of the data. The header row is highligthed in <span style=\"color:blue\">blue</span>.", 
            "cell_type": "markdown"
        }, 
        {
            "metadata": {}, 
            "source": "<span style=\"color:blue\"> Abbr,State,Date,Region,Population,Under 18,Area,Latitude,Longitude,Water,Density,Summer,Winter,Rain,Violent Crimes,Income,Dem/Rep,Presidential Choice,Boys Name,Girls Name</span><br>AL,Alabama,1819-12-14,South,4849377,22.8,52420,32.74,-86.84,3.5,92.5,78.6,46.5,58.3,425,41415,-22.2,Romney,William,Eva<br>AK,Alaska,1959-01-03,Pacific,736732,25.3,665384,63.35,-152.84,16.6,1.1,52.3,2.6,22.5,688,69825,-14,Romney,Liam,Emma<br>AZ,Arizona,1912-02-14,Mountain,6731484,24.1,113990,34.21,-111.6,0.3,59.1,78.1,43.6,13.6,501,46709,-9.1,Romney,Noah,Sophia<br>AR,Arkansas,1836-06-15,South,2966369,23.8,53179,34.9,-92.44,2.2,55.8,78.8,41.5,50.6,552,38758,-23.7,Romney,Mason,Emma", 
            "cell_type": "markdown"
        }, 
        {
            "metadata": {}, 
            "source": "# Basics:\n### In brunel, we will almost systematically define an x and y axis and identify the variable or column name from the dataset which corresponds to each. Examples include x(latitude) y(longitude) if the intention is to plot a longitude versus latitude graph.\n### There are a few different ways the data can be displayed: point, bar, line, text, area, polygon, path. The default is point if nothing is specified.", 
            "cell_type": "markdown"
        }, 
        {
            "metadata": {}, 
            "source": "### First example, we wish to plot the Longitude versus Latitude from the dataset above, as points (default).", 
            "cell_type": "markdown"
        }, 
        {
            "outputs": [], 
            "metadata": {
                "collapsed": true
            }, 
            "source": "import brunel", 
            "execution_count": 2, 
            "cell_type": "code"
        }, 
        {
            "outputs": [
                {
                    "data": {
                        "text/html": "<!--\n  ~ Copyright (c) 2015 IBM Corporation and others.\n  ~\n  ~ Licensed under the Apache License, Version 2.0 (the \"License\");\n  ~ You may not use this file except in compliance with the License.\n  ~ You may obtain a copy of the License at\n  ~\n  ~     http://www.apache.org/licenses/LICENSE-2.0\n  ~\n  ~ Unless required by applicable law or agreed to in writing, software\n  ~ distributed under the License is distributed on an \"AS IS\" BASIS,\n  ~ WITHOUT WARRANTIES OR CONDITIONS OF ANY KIND, either express or implied.\n  ~ See the License for the specific language governing permissions and\n  ~ limitations under the License.\n  -->\n\n\n<link rel=\"stylesheet\" type=\"text/css\" href=\"/data/jupyter2/b17c958e-51ed-4d8b-a9d2-1fe8f927722a/nbextensions/brunel_ext/brunel.2.3.css\">\n<link rel=\"stylesheet\" type=\"text/css\" href=\"/data/jupyter2/b17c958e-51ed-4d8b-a9d2-1fe8f927722a/nbextensions/brunel_ext/sumoselect.css\">\n\n<style>\n    \n</style>\n\n<div id=\"controlsidf39a15e6-4155-11e7-b55a-002590fb7074\" class=\"brunel\"/>\n<svg id=\"visidf39a137a-4155-11e7-b55a-002590fb7074\" width=\"500\" height=\"400\"></svg>", 
                        "text/plain": "<IPython.core.display.HTML object>"
                    }, 
                    "metadata": {}, 
                    "output_type": "display_data"
                }, 
                {
                    "data": {
                        "text/plain": "<IPython.core.display.Javascript object>", 
                        "application/javascript": "/*\n * Copyright (c) 2015 IBM Corporation and others.\n *\n * Licensed under the Apache License, Version 2.0 (the \"License\");\n * You may not use this file except in compliance with the License.\n * You may obtain a copy of the License at\n *\n *     http://www.apache.org/licenses/LICENSE-2.0\n *\n * Unless required by applicable law or agreed to in writing, software\n * distributed under the License is distributed on an \"AS IS\" BASIS,\n * WITHOUT WARRANTIES OR CONDITIONS OF ANY KIND, either express or implied.\n * See the License for the specific language governing permissions and\n * limitations under the License.\n */\n\nrequire.config({\n    waitSeconds: 60,\n    paths: {\n        'd3': '//cdnjs.cloudflare.com/ajax/libs/d3/4.2.1/d3.min',\n        'topojson': '//cdnjs.cloudflare.com/ajax/libs/topojson/1.6.20/topojson.min',\n        'brunel' : '/data/jupyter2/b17c958e-51ed-4d8b-a9d2-1fe8f927722a/nbextensions/brunel_ext/brunel.2.3.min',\n        'brunelControls' : '/data/jupyter2/b17c958e-51ed-4d8b-a9d2-1fe8f927722a/nbextensions/brunel_ext/brunel.controls.2.3.min'\n    },\n    shim: {\n       'brunel' : {\n            exports: 'BrunelD3',\n            deps: ['d3', 'topojson'],\n            init: function() {\n               return {\n                 BrunelD3 : BrunelD3,\n                 BrunelData : BrunelData\n              }\n            }\n        },\n       'brunelControls' : {\n            exports: 'BrunelEventHandlers',\n            init: function() {\n               return {\n                 BrunelEventHandlers: BrunelEventHandlers,\n                 BrunelJQueryControlFactory: BrunelJQueryControlFactory\n              }\n            }\n        }\n\n    }\n\n});\n\nrequire([\"d3\"], function(d3) {\n    require([\"brunel\", \"brunelControls\"], function(brunel, brunelControls) {\n        function  BrunelVis(visId) {\n  \"use strict\";                                                                       // strict mode\n  var datasets = [],                                      // array of datasets for the original data\n      pre = function(d, i) { return d },                         // default pre-process does nothing\n      post = function(d, i) { return d },                       // default post-process does nothing\n      transitionTime = 200,                                        // transition time for animations\n      charts = [],                                                       // the charts in the system\n      vis = d3.select('#' + visId).attr('class', 'brunel');                     // the SVG container\n\n  BrunelD3.addDefinitions(vis);                                   // ensure standard symbols present\n\n  // Define chart #1 in the visualization //////////////////////////////////////////////////////////\n\n  charts[0] = function(parentNode, filterRows) {\n    var geom = BrunelD3.geometry(parentNode || vis.node(), 0, 0, 1, 1, 5, 49, 37, 13),\n      elements = [];                                              // array of elements in this chart\n\n    // Define groups for the chart parts ///////////////////////////////////////////////////////////\n\n    var chart =  vis.append('g').attr('class', 'chart1')\n      .attr('transform','translate(' + geom.chart_left + ',' + geom.chart_top + ')');\n    var overlay = chart.append('g').attr('class', 'element').attr('class', 'overlay');\n    var zoom = d3.zoom().scaleExtent([1/3,3]);\n    var zoomNode = overlay.append('rect').attr('class', 'overlay')\n      .attr('x', geom.inner_left).attr('y', geom.inner_top)\n      .attr('width', geom.inner_rawWidth).attr('height', geom.inner_rawHeight)\n      .style('cursor', 'move').call(zoom)\n      .node();\n    zoomNode.__zoom = d3.zoomIdentity;\n    chart.append('rect').attr('class', 'background').attr('width', geom.chart_right-geom.chart_left).attr('height', geom.chart_bottom-geom.chart_top);\n    var interior = chart.append('g').attr('class', 'interior zoomNone')\n      .attr('transform','translate(' + geom.inner_left + ',' + geom.inner_top + ')')\n      .attr('clip-path', 'url(#clip_visidf39a137a-4155-11e7-b55a-002590fb7074_chart1_inner)');\n    interior.append('rect').attr('class', 'inner').attr('width', geom.inner_width).attr('height', geom.inner_height);\n    var gridGroup = interior.append('g').attr('class', 'grid');\n    var axes = chart.append('g').attr('class', 'axis')\n      .attr('transform','translate(' + geom.inner_left + ',' + geom.inner_top + ')');\n    vis.append('clipPath').attr('id', 'clip_visidf39a137a-4155-11e7-b55a-002590fb7074_chart1_inner').append('rect')\n      .attr('x', 0).attr('y', 0)\n      .attr('width', geom.inner_rawWidth+1).attr('height', geom.inner_rawHeight+1);\n\n    // Scales //////////////////////////////////////////////////////////////////////////////////////\n\n    var scale_x = d3.scaleLinear().domain([15, 65.000005])\n      .range([0, geom.inner_width]);\n    var scale_inner = d3.scaleLinear().domain([0,1])\n      .range([-0.5, 0.5]);\n    var scale_y = d3.scaleLinear().domain([-160, -59.99999])\n      .range([geom.inner_height, 0]);\n    var base_scales = [scale_x, scale_y];                           // untransformed original scales\n\n    // Axes ////////////////////////////////////////////////////////////////////////////////////////\n\n    axes.append('g').attr('class', 'x axis')\n      .attr('transform','translate(0,' + geom.inner_rawHeight + ')')\n      .attr('clip-path', 'url(#clip_visidf39a137a-4155-11e7-b55a-002590fb7074_chart1_haxis)');\n    vis.append('clipPath').attr('id', 'clip_visidf39a137a-4155-11e7-b55a-002590fb7074_chart1_haxis').append('polyline')\n      .attr('points', '-1,-1000, -1,-1 -5,5, -1000,5, -100,1000, 10000,1000 10000,-1000');\n    axes.select('g.axis.x').append('text').attr('class', 'title').text('Latitude').style('text-anchor', 'middle')\n      .attr('x',geom.inner_rawWidth/2)\n      .attr('y', geom.inner_bottom - 2.0).attr('dy','-0.27em');\n    axes.append('g').attr('class', 'y axis')\n      .attr('clip-path', 'url(#clip_visidf39a137a-4155-11e7-b55a-002590fb7074_chart1_vaxis)');\n    vis.append('clipPath').attr('id', 'clip_visidf39a137a-4155-11e7-b55a-002590fb7074_chart1_vaxis').append('polyline')\n      .attr('points', '-1000,-10000, 10000,-10000, 10000,' + (geom.inner_rawHeight+1) + ', -1,' + (geom.inner_rawHeight+1) + ', -1,' + (geom.inner_rawHeight+5) + ', -1000,' + (geom.inner_rawHeight+5) );\n    axes.select('g.axis.y').append('text').attr('class', 'title').text('Longitude').style('text-anchor', 'middle')\n      .attr('x',-geom.inner_rawHeight/2)\n      .attr('y', 4-geom.inner_left).attr('dy', '0.7em').attr('transform', 'rotate(270)');\n\n    var axis_bottom = d3.axisBottom(scale_x).ticks(Math.min(10, Math.round(geom.inner_width / 33.0)));\n    var axis_left = d3.axisLeft(scale_y).ticks(Math.min(10, Math.round(geom.inner_width / 20)));\n\n    function buildAxes(time) {\n      var axis_x = axes.select('g.axis.x');\n      BrunelD3.transition(axis_x, time).call(axis_bottom.scale(scale_x));\n      var axis_y = axes.select('g.axis.y');\n      BrunelD3.transition(axis_y, time).call(axis_left.scale(scale_y));\n    }\n    zoom.on('zoom', function(t, time) {\n        t = t ||BrunelD3.restrictZoom(d3.event.transform, geom, this);\n        scale_x = t.rescaleX(base_scales[0]);\n        scale_y = t.rescaleY(base_scales[1]);\n        zoomNode.__zoom = t;\n        interior.attr('class', 'interior ' + BrunelD3.zoomLabel(t.k));;\n        build(time || -1);\n    });\n\n    // Define element #1 ///////////////////////////////////////////////////////////////////////////\n\n    elements[0] = function() {\n      var original, processed,                           // data sets passed in and then transformed\n        element, data,                                 // brunel element information and brunel data\n        selection, merged;                                      // d3 selection and merged selection\n      var elementGroup = interior.append('g').attr('class', 'element1'),\n        main = elementGroup.append('g').attr('class', 'main'),\n        labels = BrunelD3.undoTransform(elementGroup.append('g').attr('class', 'labels').attr('aria-hidden', 'true'), elementGroup);\n\n      function makeData() {\n        original = datasets[0];\n        if (filterRows) original = original.retainRows(filterRows);\n        processed = pre(original, 0);\n        processed = post(processed, 0);\n        var f0 = processed.field('Latitude'),\n          f1 = processed.field('Longitude'),\n          f2 = processed.field('#row'),\n          f3 = processed.field('#selection');\n        var keyFunc = function(d) { return f2.value(d) };\n        data = {\n          Latitude:     function(d) { return f0.value(d.row) },\n          Longitude:    function(d) { return f1.value(d.row) },\n          $row:         function(d) { return f2.value(d.row) },\n          $selection:   function(d) { return f3.value(d.row) },\n          Latitude_f:   function(d) { return f0.valueFormatted(d.row) },\n          Longitude_f:  function(d) { return f1.valueFormatted(d.row) },\n          $row_f:       function(d) { return f2.valueFormatted(d.row) },\n          $selection_f: function(d) { return f3.valueFormatted(d.row) },\n          _split:       function(d) { return 'ALL' },\n          _key:         keyFunc,\n          _rows:        BrunelD3.makeRowsWithKeys(keyFunc, processed.rowCount())\n        };\n      }\n\n      // Build element from data ///////////////////////////////////////////////////////////////////\n\n      function build(transitionMillis) {\n        element = elements[0];\n        var w = geom.default_point_size;\n        var x = function(d) { return scale_x(data.Latitude(d))};\n        var h = geom.default_point_size;\n        var y = function(d) { return scale_y(data.Longitude(d))};\n\n        // Define selection entry operations\n        function initialState(selection) {\n          selection\n            .attr('class', 'element point filled')\n            .style('pointer-events', 'none')\n        }\n\n        // Define selection update operations on merged data\n        function updateState(selection) {\n          selection\n            .attr('cx',function(d) { return scale_x(data.Latitude(d))})\n            .attr('cy',function(d) { return scale_y(data.Longitude(d))})\n            .attr('r',geom.default_point_size / 2);\n        }\n\n        // Define labeling for the selection\n        function label(selection, transitionMillis) {\n        }\n        // Create selections, set the initial state and transition updates\n        selection = main.selectAll('.element').data(data._rows, function(d) { return d.key });\n        var added = selection.enter().append('circle');\n        merged = selection.merge(added);\n        initialState(added);\n        selection.filter(BrunelD3.hasData)\n          .classed('selected', BrunelD3.isSelected(data))\n          .filter(BrunelD3.isSelected(data)).raise();\n        updateState(BrunelD3.transition(merged, transitionMillis));\n\n        BrunelD3.transition(selection.exit(), transitionMillis/3)\n          .style('opacity', 0.5).each( function() {\n            this.remove(); BrunelD3.removeLabels(this); \n        });\n      }\n\n      return {\n        data:           function() { return processed },\n        original:       function() { return original },\n        internal:       function() { return data },\n        selection:      function() { return merged },\n        makeData:       makeData,\n        build:          build,\n        chart:          function() { return charts[0] },\n        group:          function() { return elementGroup },\n        fields: {\n          x:            ['Latitude'],\n          y:            ['Longitude'],\n          key:          ['#row']\n        }\n      };\n    }();\n\n    function build(time, noData) {\n      var first = elements[0].data() == null;\n      if (first) time = 0;                                           // no transition for first call\n      buildAxes(time);\n      if ((first || time > -1) && !noData) {\n        elements[0].makeData();\n      }\n      elements[0].build(time);\n    }\n\n    // Expose the following components of the chart\n    return {\n      elements : elements,\n      interior : interior,\n      scales: {x:scale_x, y:scale_y},\n      zoom: function(params, time) {\n          if (params) zoom.on('zoom').call(zoomNode, params, time);\n          return d3.zoomTransform(zoomNode);\n      },\n      build : build\n    };\n    }();\n\n  function setData(rowData, i) { datasets[i||0] = BrunelD3.makeData(rowData) }\n  function updateAll(time) { charts.forEach(function(x) {x.build(time || 0)}) }\n  function buildAll() {\n    for (var i=0;i<arguments.length;i++) setData(arguments[i], i);\n    updateAll(transitionTime);\n  }\n\n  return {\n    dataPreProcess:     function(f) { if (f) pre = f; return pre },\n    dataPostProcess:    function(f) { if (f) post = f; return post },\n    data:               function(d,i) { if (d) setData(d,i); return datasets[i||0] },\n    visId:              visId,\n    build:              buildAll,\n    rebuild:            updateAll,\n    charts:             charts\n  }\n}\n\n// Data Tables /////////////////////////////////////////////////////////////////////////////////////\n\nvar table1 = {\n   summarized: false,\n   names: ['Latitude', 'Longitude'], \n   options: ['numeric', 'numeric'], \n   rows: [[32.74, -86.84], [63.35, -152.84], [34.21, -111.6], [34.9, -92.44], [37.15, -119.54],\n  [38.99, -105.51], [41.58, -72.75], [38.99, -75.45], [28.46, -82.41], [32.63, -83.42],\n  [19.81, -155.51], [44.3, -114.6], [40.1, -89.15], [39.9, -86.28], [42.07, -93.49], [38.5, -98.38],\n  [37.53, -85.29], [30.86, -91.8], [45.39, -68.66], [38.95, -76.67], [42.16, -71.49],\n  [44.84, -85.66], [46.32, -94.2], [32.69, -89.66], [38.35, -92.46], [47.05, -109.63],\n  [41.54, -99.81], [39.33, -116.62], [43.67, -71.58], [40.11, -74.67], [34.44, -106.13],\n  [42.91, -75.6], [35.54, -79.13], [47.46, -100.46], [40.41, -82.71], [35.59, -97.49],\n  [43.97, -120.62], [40.9, -77.83], [41.6, -71.53], [33.87, -80.85], [44.45, -100.24],\n  [35.86, -86.35], [31.43, -99.28], [39.33, -111.66], [44.06, -72.67], [37.52, -78.67],\n  [47.42, -120.6], [38.65, -80.62], [44.63, -89.71], [42.99, -107.54]]\n};\n\n// Call Code to Build the system ///////////////////////////////////////////////////////////////////\n\nvar v  = new BrunelVis('visidf39a137a-4155-11e7-b55a-002590fb7074');\nv.build(table1);\n\n    });\n});"
                    }, 
                    "metadata": {}, 
                    "output_type": "execute_result", 
                    "execution_count": 3
                }
            ], 
            "metadata": {
                "scrolled": false, 
                "collapsed": false
            }, 
            "source": "%brunel data(\"http://brunel.mybluemix.net/sample_data/US States.csv\") x(latitude) y(longitude)", 
            "execution_count": 3, 
            "cell_type": "code"
        }, 
        {
            "metadata": {
                "collapsed": true
            }, 
            "source": "### We can hover the mouse over the diagram above, when it takes the shape of a cross with 4 arrows, we can drag the diagram, or zoom-in zoom-out using the mouse wheel.", 
            "cell_type": "markdown"
        }, 
        {
            "metadata": {}, 
            "source": "### Instead of points, we can represent our data set as a line.", 
            "cell_type": "markdown"
        }, 
        {
            "outputs": [], 
            "metadata": {
                "collapsed": false
            }, 
            "source": "%brunel data(\"http://brunel.mybluemix.net/sample_data/US States.csv\") x(latitude) y(longitude) line", 
            "execution_count": null, 
            "cell_type": "code"
        }, 
        {
            "metadata": {}, 
            "source": "### The data can then be grouped according to another attribute, such as the \"region\" attribute in the data set. This can be done to point or line graphs.", 
            "cell_type": "markdown"
        }, 
        {
            "outputs": [], 
            "metadata": {
                "collapsed": false
            }, 
            "source": "%brunel data(\"http://brunel.mybluemix.net/sample_data/US States.csv\") x(latitude) y(longitude) point color(region)", 
            "execution_count": null, 
            "cell_type": "code"
        }, 
        {
            "metadata": {}, 
            "source": "### We can now plot the summer temperature in each state, as bars, still grouping each region in a different color", 
            "cell_type": "markdown"
        }, 
        {
            "outputs": [], 
            "metadata": {
                "collapsed": false
            }, 
            "source": "%brunel data(\"http://brunel.mybluemix.net/sample_data/US States.csv\") x(state) y(summer) bar color(region)", 
            "execution_count": null, 
            "cell_type": "code"
        }, 
        {
            "metadata": {}, 
            "source": "### Transpose the graph using the corresponding keyword.", 
            "cell_type": "markdown"
        }, 
        {
            "outputs": [], 
            "metadata": {
                "collapsed": false
            }, 
            "source": "%brunel data(\"http://brunel.mybluemix.net/sample_data/US States.csv\") x(state) y(summer) bar transpose color(region)", 
            "execution_count": null, 
            "cell_type": "code"
        }, 
        {
            "metadata": {}, 
            "source": "### The \"tooltip\" keyword is used to instruct brunel to display the underlying data when you hover on the various sections of the graph. Try hovering the mouse over the diagram below.", 
            "cell_type": "markdown"
        }, 
        {
            "outputs": [], 
            "metadata": {
                "collapsed": false
            }, 
            "source": "%brunel data(\"http://brunel.mybluemix.net/sample_data/US States.csv\") x(state) y(summer) bar color(region) tooltip(state)", 
            "execution_count": null, 
            "cell_type": "code"
        }, 
        {
            "metadata": {}, 
            "source": "### When you plot a graph, you can have more than one single element on the Y axis (multiple 'series'). Here is an example below, where the X axis is still the state, as in the previous example, but the Y axis has both the summer and winter temperatures.", 
            "cell_type": "markdown"
        }, 
        {
            "outputs": [], 
            "metadata": {
                "collapsed": false
            }, 
            "source": "%brunel data(\"http://brunel.mybluemix.net/sample_data/US States.csv\") line x(state) y(summer, winter)", 
            "execution_count": null, 
            "cell_type": "code"
        }, 
        {
            "metadata": {}, 
            "source": "### We can also combine the line data with the point data, so we can see the various data points making the lines.", 
            "cell_type": "markdown"
        }, 
        {
            "outputs": [], 
            "metadata": {
                "collapsed": false
            }, 
            "source": "%brunel data(\"http://brunel.mybluemix.net/sample_data/US States.csv\") line x(state) y(summer, winter) + x(state) y(summer, winter)", 
            "execution_count": null, 
            "cell_type": "code"
        }, 
        {
            "metadata": {}, 
            "source": "### Next we can add colors again. We could identify different regions in the point data with colors as shown previously", 
            "cell_type": "markdown"
        }, 
        {
            "outputs": [], 
            "metadata": {
                "collapsed": false
            }, 
            "source": "%brunel data(\"http://brunel.mybluemix.net/sample_data/US States.csv\") line x(state) y(summer, winter) + x(state) y(summer, winter) color(region)", 
            "execution_count": null, 
            "cell_type": "code"
        }, 
        {
            "metadata": {}, 
            "source": "### But when working with multiple datasets on the Y axis, we can choose to color each \"series\" differently, leveraging the corresponding keyword", 
            "cell_type": "markdown"
        }, 
        {
            "outputs": [], 
            "metadata": {
                "collapsed": false
            }, 
            "source": "%brunel data(\"http://brunel.mybluemix.net/sample_data/US States.csv\") line x(state) y(summer, winter) color(#series) + x(state) y(summer, winter) color(#series)", 
            "execution_count": null, 
            "cell_type": "code"
        }, 
        {
            "metadata": {
                "collapsed": true
            }, 
            "source": "### Adding tooltip again. Try hovering your mouse over the data points in the diagram below...", 
            "cell_type": "markdown"
        }, 
        {
            "outputs": [], 
            "metadata": {
                "collapsed": false
            }, 
            "source": "%brunel data(\"http://brunel.mybluemix.net/sample_data/US States.csv\") line x(state) y(summer, winter) color(#series)+ x(state) y(summer, winter) color(#series) tooltip(state, \": \", #series, \" = \", #values)", 
            "execution_count": null, 
            "cell_type": "code"
        }, 
        {
            "metadata": {}, 
            "source": "### Additional example, using a bar graph.", 
            "cell_type": "markdown"
        }, 
        {
            "outputs": [], 
            "metadata": {
                "collapsed": false
            }, 
            "source": "%brunel data(\"http://brunel.mybluemix.net/sample_data/US States.csv\") bar x(state) yrange(summer, winter) sort(winter) tooltip(winter, summer)", 
            "execution_count": null, 
            "cell_type": "code"
        }, 
        {
            "metadata": {}, 
            "source": "### Another example with stacked bars, counting the number of entries for each summer temperature across all states.", 
            "cell_type": "markdown"
        }, 
        {
            "outputs": [], 
            "metadata": {
                "collapsed": false
            }, 
            "source": "%brunel data(\"http://brunel.mybluemix.net/sample_data/US States.csv\")  stack bar x(summer)  y(#count) color(region) tooltip(#all)", 
            "execution_count": null, 
            "cell_type": "code"
        }, 
        {
            "metadata": {}, 
            "source": "# <span style=\"color:blue\">Introduction to Spark-SQL and DataFrames</span>", 
            "cell_type": "markdown"
        }, 
        {
            "metadata": {
                "collapsed": true
            }, 
            "source": "### A Spark dataframe can be thought of as the equivalent of an SQL table. As a matter of fact, a data frame can be saved as a table. The code in the cell below should be fairly straightforward. Data is loaded from a standard schema in an existing dashDB instance (Schema: GoSales, Table: Branch)", 
            "cell_type": "markdown"
        }, 
        {
            "outputs": [], 
            "metadata": {
                "collapsed": true
            }, 
            "source": "salesDF = sqlContext.read.format('jdbc').\\\n          options(url='jdbc:db2://dashdb-entry-yp-dal09-10.services.dal.bluemix.net:50000/BLUDB:user=dash6431;password=wXDVudMyrnia;',\\\n                  dbtable='GOSALES.BRANCH').load()", 
            "execution_count": null, 
            "cell_type": "code"
        }, 
        {
            "outputs": [], 
            "metadata": {
                "collapsed": false
            }, 
            "source": "salesDF.show(2)", 
            "execution_count": null, 
            "cell_type": "code"
        }, 
        {
            "metadata": {}, 
            "source": "### Register the data frame as a temporary table", 
            "cell_type": "markdown"
        }, 
        {
            "outputs": [], 
            "metadata": {
                "collapsed": true
            }, 
            "source": "salesDF.registerTempTable(\"SalesTables\")", 
            "execution_count": null, 
            "cell_type": "code"
        }, 
        {
            "metadata": {}, 
            "source": "### Run some standard SQL statemens on the newly registered table", 
            "cell_type": "markdown"
        }, 
        {
            "outputs": [], 
            "metadata": {
                "collapsed": false
            }, 
            "source": "query = \"\"\"Select * from SalesTables where CITY = 'Toronto'\"\"\"\n\nmyDF = sqlContext.sql(query)\nmyDF.show()", 
            "execution_count": null, 
            "cell_type": "code"
        }, 
        {
            "metadata": {}, 
            "source": "### Once the table is registered as above, one can take full advantage of all SparkSQL capabilities, which is reasonably extended, although not ANSI SQL compliant", 
            "cell_type": "markdown"
        }, 
        {
            "metadata": {}, 
            "source": "### Instead of using SQL, Spark dataframes also support a Domain Specific Language (DSL) which is equivalent to SQL. For example, the select statement above can be rewritten as", 
            "cell_type": "markdown"
        }, 
        {
            "outputs": [], 
            "metadata": {
                "collapsed": false
            }, 
            "source": "myDF2 = salesDF.filter(\"CITY='Toronto'\")\nmyDF2.show()", 
            "execution_count": null, 
            "cell_type": "code"
        }, 
        {
            "metadata": {}, 
            "source": "### This DSL also supports joins, aggregations, group bys, etc...", 
            "cell_type": "markdown"
        }, 
        {
            "metadata": {}, 
            "source": "### Introduction to \"withColumn\".\n### withColumn allows you to define (and add) a new column to a dataframe. Example:", 
            "cell_type": "markdown"
        }, 
        {
            "outputs": [], 
            "metadata": {
                "collapsed": false
            }, 
            "source": "myDF3 = myDF.withColumn(\"NEWCOL\", myDF2['ADDRESS1'][0:9])\nmyDF3.show()", 
            "execution_count": null, 
            "cell_type": "code"
        }, 
        {
            "metadata": {}, 
            "source": "### We can convert between Spark and Pandas dataframes with ease. Pandas can display the data in a nice html formatted table.", 
            "cell_type": "markdown"
        }, 
        {
            "outputs": [], 
            "metadata": {
                "collapsed": false
            }, 
            "source": "myDF2p = myDF2.toPandas()\nmyDF2p", 
            "execution_count": null, 
            "cell_type": "code"
        }, 
        {
            "metadata": {}, 
            "source": "### We can now use all Pandas capabilities such as the \"count\" method to get an analysis on the data in the dataframe. <br> You can look more at more Pandas capabilities in the \"BlocPower\" notebook available at this URL: https://github.com/IBMDataScience/SparkSummitDemo", 
            "cell_type": "markdown"
        }, 
        {
            "outputs": [], 
            "metadata": {
                "collapsed": false
            }, 
            "source": "myDF2p.count()", 
            "execution_count": null, 
            "cell_type": "code"
        }, 
        {
            "outputs": [], 
            "metadata": {
                "collapsed": true
            }, 
            "source": "", 
            "execution_count": null, 
            "cell_type": "code"
        }
    ]
}